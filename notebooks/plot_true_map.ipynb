{
 "cells": [
  {
   "cell_type": "code",
   "execution_count": null,
   "metadata": {},
   "outputs": [],
   "source": [
    "# %pip install folium"
   ]
  },
  {
   "cell_type": "code",
   "execution_count": null,
   "metadata": {},
   "outputs": [],
   "source": [
    "import folium\n",
    "from folium import plugins\n",
    "import pandas as pd\n",
    "import matplotlib.pyplot as plt\n",
    "import seaborn as sns\n",
    "\n",
    "%matplotlib inline"
   ]
  },
  {
   "cell_type": "code",
   "execution_count": null,
   "metadata": {},
   "outputs": [],
   "source": [
    "# change to root directory of respository\n",
    "%cd C:\\Users\\saara\\Documents\\_Grad_University\\Y1S1\\CMPUT692\\term_project\\flexible-cells-algorithm"
   ]
  },
  {
   "cell_type": "code",
   "execution_count": null,
   "metadata": {},
   "outputs": [],
   "source": [
    "def pred_centers(txt):  # converts the output of true centers into manipulatable lists\n",
    "    min_max_lst = []\n",
    "    txt = txt.split(\"\\n\")\n",
    "    for line in txt:\n",
    "        if line != \"\" and line[0]==\"C\":\n",
    "            lst = line.split(\"),\")[0][10:].split(\", \")\n",
    "            to_append = [float(lst[0]), float(lst[1]), float(lst[3]), float(lst[4])]\n",
    "            min_max_lst.append(to_append)\n",
    "    return min_max_lst"
   ]
  },
  {
   "cell_type": "code",
   "execution_count": null,
   "metadata": {},
   "outputs": [],
   "source": [
    "event_coords_filepath = \"data/COVID_coords_all.csv\"\n",
    "map_name = \"visualizations/COVID_interactive_map.html\""
   ]
  },
  {
   "cell_type": "code",
   "execution_count": null,
   "metadata": {},
   "outputs": [],
   "source": [
    "# replace with output of our center finding algorithm\n",
    "pred_cntrs = '''\n",
    "Center: ((-122.52687, -122.04688, 0.48, 38.03187, 37.55188, 0.48, 4), 1028)\n",
    "(C,alpha): (1028, 4.999996371653228)\n",
    "Center: ((-115.37562, -114.89562, 0.48, 36.38562, 35.90563, 0.48, 4), 605)\n",
    "(C,alpha): (605, 0.0002535944335937087)\n",
    "Center: ((-118.50813, -118.02813, 0.48, 34.21312, 33.73313, 0.48, 3), 3321)\n",
    "(C,alpha): (3321, 0.00011871319442378908)\n",
    "Center: ((-118.045, -117.565, 0.48, 33.93312, 33.45312, 0.48, 3), 851)\n",
    "(C,alpha): (851, 3.1106166706762364e-05)\n",
    "Center: ((-117.325, -116.845, 0.48, 33.15, 32.67, 0.48, 1), 609)\n",
    "(C,alpha): (609, 0.00012699071314107126)\n",
    "Center: ((-97.13438, -96.65438, 0.48, 33.19, 32.71, 0.48, 2), 681)\n",
    "(C,alpha): (681, 4.999996371653228)\n",
    "Center: ((-95.72813, -95.24813, 0.48, 30.03437, 29.55438, 0.48, 2), 722)\n",
    "(C,alpha): (722, 4.999996371653228)\n",
    "Center: ((-88.03375, -87.55375, 0.48, 42.17063, 41.69062, 0.48, 3), 1032)\n",
    "(C,alpha): (1032, 4.999996371653228)\n",
    "Center: ((-84.59812, -84.11813, 0.48, 34.09313, 33.61312, 0.48, 3), 1145)\n",
    "(C,alpha): (1145, 1.8408668665811794)\n",
    "Center: ((-81.62562, -81.14562, 0.48, 28.77125, 28.29125, 0.48, 2), 550)\n",
    "(C,alpha): (550, 1.9080260671516965e-05)\n",
    "Center: ((-80.57937, -80.09937, 0.48, 26.15875, 25.67875, 0.48, 2), 1119)\n",
    "(C,alpha): (1119, 4.999996371653228)\n",
    "Center: ((-75.4175, -74.9375, 0.48, 40.30125, 39.82125, 0.48, 1), 666)\n",
    "(C,alpha): (666, 0.00022020579964519187)\n",
    "Center: ((-74.25125, -73.77125, 0.48, 41.04438, 40.56437, 0.48, 3), 4499)\n",
    "(C,alpha): (4499, 4.999996371653228)\n",
    "Center: ((-77.32688, -76.84687, 0.48, 39.23812, 38.75812, 0.48, 3), 1077)\n",
    "(C,alpha): (1077, 4.999996371653228)\n",
    "Center: ((-71.35875, -70.87875, 0.48, 42.67375, 42.19375, 0.48, 1), 537)\n",
    "(C,alpha): (537, 4.999996371653228)\n",
    "Center: ((-122.44688, -121.96688, 0.48, 47.91562, 47.43563, 0.48, 3), 509)\n",
    "(C,alpha): (509, 6.200761526060594e-05)\n",
    "'''"
   ]
  },
  {
   "cell_type": "code",
   "execution_count": null,
   "metadata": {},
   "outputs": [],
   "source": [
    "# contains coordinates of observations\n",
    "coords_df = pd.read_csv(event_coords_filepath, header=None)  # ground truth observations"
   ]
  },
  {
   "cell_type": "code",
   "execution_count": null,
   "metadata": {},
   "outputs": [],
   "source": [
    "# creates dataframe containing predicted center information\n",
    "centers_df = pd.DataFrame(pred_centers(pred_cntrs), columns=[\"min_x\", \"max_x\", \"min_y\", \"max_y\"])\n",
    "centers_df[\"longitude_guess\"] = (centers_df.min_x + centers_df.max_x)/2\n",
    "centers_df[\"latitude_guess\"] = (centers_df.min_y + centers_df.max_y)/2"
   ]
  },
  {
   "cell_type": "code",
   "execution_count": null,
   "metadata": {},
   "outputs": [],
   "source": [
    "# create map\n",
    "m = folium.Map([39, -98], zoom_start=4)\n",
    "    \n",
    "# plots all events as small dots\n",
    "for index, row in coords_df.iterrows():\n",
    "    folium.CircleMarker([row[0], row[1]],\n",
    "                        radius=1,\n",
    "#                         popup=row['name'],\n",
    "                        fill_color=\"#3db7e4\", # divvy color\n",
    "                       ).add_to(m)\n",
    "\n",
    "# plots our multiple center guesses\n",
    "for index, row in centers_df.iterrows():\n",
    "    folium.CircleMarker([row[\"latitude_guess\"], row[\"longitude_guess\"]],\n",
    "                        radius=3,\n",
    "                        fill=True, # Set fill to True\n",
    "                        popup=(index, row[\"latitude_guess\"], row[\"longitude_guess\"]),\n",
    "                        color = '#2e43a6').add_to(m)\n",
    "    \n",
    "# plot heatmap\n",
    "m.add_child(plugins.HeatMap(coords_df, radius=15))\n",
    "\n",
    "m"
   ]
  },
  {
   "cell_type": "code",
   "execution_count": null,
   "metadata": {},
   "outputs": [],
   "source": [
    "# saves plot as an interactive map\n",
    "m.save(map_name)"
   ]
  }
 ],
 "metadata": {
  "kernelspec": {
   "display_name": "Python 3",
   "language": "python",
   "name": "python3"
  },
  "language_info": {
   "codemirror_mode": {
    "name": "ipython",
    "version": 3
   },
   "file_extension": ".py",
   "mimetype": "text/x-python",
   "name": "python",
   "nbconvert_exporter": "python",
   "pygments_lexer": "ipython3",
   "version": "3.7.4"
  }
 },
 "nbformat": 4,
 "nbformat_minor": 2
}
