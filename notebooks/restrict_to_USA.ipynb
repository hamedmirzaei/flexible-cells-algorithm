{
 "cells": [
  {
   "cell_type": "markdown",
   "metadata": {},
   "source": [
    "Input: Dataset with coordinates\n",
    "\n",
    "Output: Dataset with coordinates and feature \"in_US\"; True means \"In Continental United States\", False means \"Not In Continental United States\""
   ]
  },
  {
   "cell_type": "code",
   "execution_count": null,
   "metadata": {},
   "outputs": [],
   "source": [
    "# %pip install geopy"
   ]
  },
  {
   "cell_type": "code",
   "execution_count": null,
   "metadata": {},
   "outputs": [],
   "source": [
    "import pandas as pd\n",
    "import numpy as np\n",
    "import time\n",
    "import geopy\n",
    "from geopy.geocoders import Nominatim\n",
    "from geopy.extra.rate_limiter import RateLimiter\n",
    "import tqdm\n",
    "from tqdm.notebook import tqdm_notebook"
   ]
  },
  {
   "cell_type": "code",
   "execution_count": null,
   "metadata": {},
   "outputs": [],
   "source": [
    "filename = \"hydrated_geotagged_all_tweets.csv\"  # not available for publishing because of Twitter's Terms of Service\n",
    "output_path = \"df_with_mask.csv\""
   ]
  },
  {
   "cell_type": "code",
   "execution_count": null,
   "metadata": {},
   "outputs": [],
   "source": [
    "df = pd.read_csv(filename, dtype=str)"
   ]
  },
  {
   "cell_type": "code",
   "execution_count": null,
   "metadata": {},
   "outputs": [],
   "source": [
    "# get rid of all rows with no coordinates\n",
    "mask = []\n",
    "for item in df.coordinates:\n",
    "    if str(item) == \"nan\":\n",
    "        mask.append(False)\n",
    "    else:\n",
    "        mask.append(True) \n",
    "\n",
    "df = df[mask]"
   ]
  },
  {
   "cell_type": "code",
   "execution_count": null,
   "metadata": {},
   "outputs": [],
   "source": [
    "# define points of interest in United States\n",
    "\n",
    "# http://www.cohp.org/extremes/extreme_points.html\n",
    "# https://www.latlong.net/degrees-minutes-seconds-to-decimal-degrees (conversion)\n",
    "\n",
    "west = -124.73004  # westernmost point of continental united states\n",
    "east = -66.94975  # easternmost point of continental united states\n",
    "\n",
    "# US north border\n",
    "north_north = 49\n",
    "north_south = 41.66470503\n",
    "split = -95.14984131 \n",
    "\n",
    "# US south border\n",
    "south_north = 32.71335535\n",
    "south_south = 24.51713945"
   ]
  },
  {
   "cell_type": "code",
   "execution_count": null,
   "metadata": {},
   "outputs": [],
   "source": [
    "locator = Nominatim(user_agent=\"myGeocoder\")\n",
    "\n",
    "def in_US(lat, lng):  # function is given coordinates, output is True if in US, False otherwise\n",
    "    if lng > east or lng < west:\n",
    "        return False\n",
    "    elif lat > north_north or lat < south_south:\n",
    "        return False\n",
    "    elif lat > south_north and lat < north_south:\n",
    "        return True\n",
    "    elif lng < split and lat > north_south:\n",
    "        return True\n",
    "    else:  # need to lookup\n",
    "        try:\n",
    "            location = locator.reverse(str(lat)+\",\"+str(lng))\n",
    "            if location.raw['address']['country_code'] == \"us\":\n",
    "                return True\n",
    "            else:\n",
    "                return False\n",
    "        except:\n",
    "            return None"
   ]
  },
  {
   "cell_type": "code",
   "execution_count": null,
   "metadata": {},
   "outputs": [],
   "source": [
    "# create new feature\n",
    "df[\"in_US\"] = mask"
   ]
  },
  {
   "cell_type": "code",
   "execution_count": null,
   "metadata": {},
   "outputs": [],
   "source": [
    "# how many of each?\n",
    "df.groupby([\"in_US\"]).count()"
   ]
  },
  {
   "cell_type": "code",
   "execution_count": null,
   "metadata": {},
   "outputs": [],
   "source": [
    "# save to output\n",
    "df.to_csv(output_path)"
   ]
  }
 ],
 "metadata": {
  "kernelspec": {
   "display_name": "Python 3",
   "language": "python",
   "name": "python3"
  },
  "language_info": {
   "codemirror_mode": {
    "name": "ipython",
    "version": 3
   },
   "file_extension": ".py",
   "mimetype": "text/x-python",
   "name": "python",
   "nbconvert_exporter": "python",
   "pygments_lexer": "ipython3",
   "version": "3.7.4"
  }
 },
 "nbformat": 4,
 "nbformat_minor": 2
}
