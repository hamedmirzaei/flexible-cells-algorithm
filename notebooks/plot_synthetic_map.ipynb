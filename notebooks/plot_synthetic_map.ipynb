{
 "cells": [
  {
   "cell_type": "code",
   "execution_count": null,
   "metadata": {},
   "outputs": [],
   "source": [
    "# %pip install folium"
   ]
  },
  {
   "cell_type": "code",
   "execution_count": null,
   "metadata": {},
   "outputs": [],
   "source": [
    "import folium\n",
    "from folium import plugins\n",
    "import pandas as pd\n",
    "import matplotlib.pyplot as plt\n",
    "import seaborn as sns\n",
    "import geopy.distance\n",
    "\n",
    "%matplotlib inline"
   ]
  },
  {
   "cell_type": "code",
   "execution_count": null,
   "metadata": {},
   "outputs": [],
   "source": [
    "# change to root directory of respository\n",
    "%cd C:\\Users\\saara\\Documents\\_Grad_University\\Y1S1\\CMPUT692\\term_project\\flexible-cells-algorithm"
   ]
  },
  {
   "cell_type": "code",
   "execution_count": null,
   "metadata": {},
   "outputs": [],
   "source": [
    "def pred_centers(txt):  # converts the output of true centers into manipulatable lists\n",
    "    min_max_lst = []\n",
    "    txt = txt.split(\"\\n\")\n",
    "    for line in txt:\n",
    "        if line != \"\" and line[0]==\"C\":\n",
    "            lst = line.split(\"),\")[0][10:].split(\", \")\n",
    "            to_append = [float(lst[0]), float(lst[1]), float(lst[3]), float(lst[4])]\n",
    "            min_max_lst.append(to_append)\n",
    "    return min_max_lst\n",
    "\n",
    "def tru_centers(txt):  # converts the output of predicted centers into manipulatable lists\n",
    "    coords_list = []\n",
    "    txt = txt.split(\"\\n\")\n",
    "    for line in txt:\n",
    "        if line != \"\":\n",
    "            lst = line.split(\"(\")[1].replace(\")\",\"\").split(\", \")\n",
    "            to_append = [float(lst[0]), float(lst[1])]\n",
    "            coords_list.append(to_append)\n",
    "    return coords_list"
   ]
  },
  {
   "cell_type": "code",
   "execution_count": null,
   "metadata": {},
   "outputs": [],
   "source": [
    "event_coords_filepath = \"data/synthetic_coords.txt\"\n",
    "map_name = \"visualizations/synthetic_interactive_map.html\""
   ]
  },
  {
   "cell_type": "code",
   "execution_count": null,
   "metadata": {},
   "outputs": [],
   "source": [
    "# replace with output of our center finding algorithm\n",
    "pred_cntrs = '''\n",
    "Center: ((-108.2875, -105.8875, 2.4, -81.7625, -84.1625, 2.4, 4), 800)\n",
    "(C,alpha): (800, 4.999996371653228)\n",
    "Center: ((-80.3625, -77.9625, 2.4, 14.275, 11.875, 2.4, 2), 800)\n",
    "(C,alpha): (800, 6.550317628686485e-06)\n",
    "Center: ((73.725, 76.125, 2.4, -81.75, -84.15, 2.4, 1), 800)\n",
    "(C,alpha): (800, 4.999996371653228)\n",
    "Center: ((153.675, 156.075, 2.4, 46.2125, 43.8125, 2.4, 3), 801)\n",
    "(C,alpha): (801, 4.999996371653228)\n",
    "'''"
   ]
  },
  {
   "cell_type": "code",
   "execution_count": null,
   "metadata": {},
   "outputs": [],
   "source": [
    "# replace with output of Backstrom's center finding algorithm\n",
    "backstrom_cntr = \"\"\"\n",
    "Center: ((154.1, 154.2, 0.1, 45.5, 45.6, 0.1), 6)\n",
    "(C,alpha): (6, 4.999996371653228)\n",
    "\"\"\""
   ]
  },
  {
   "cell_type": "code",
   "execution_count": null,
   "metadata": {},
   "outputs": [],
   "source": [
    "# replace with output of our data generation step\n",
    "tru_cntrs = '''\n",
    "Center 1: (-83.0, 75.0)\n",
    "Center 2: (45.0, 155.0)\n",
    "Center 3: (-83.0, -107.0)\n",
    "Center 4: (13.0, -79.0)\n",
    "'''"
   ]
  },
  {
   "cell_type": "code",
   "execution_count": null,
   "metadata": {},
   "outputs": [],
   "source": [
    "# creates lat and long of backstrom center\n",
    "back_out = pred_centers(backstrom_cntr)[0]\n",
    "back_coords = ((back_out[2]+back_out[3])/2,(back_out[0]+back_out[1])/2)"
   ]
  },
  {
   "cell_type": "code",
   "execution_count": null,
   "metadata": {},
   "outputs": [],
   "source": [
    "back_coords"
   ]
  },
  {
   "cell_type": "code",
   "execution_count": null,
   "metadata": {},
   "outputs": [],
   "source": [
    "# contains coordinates of observations\n",
    "coords_df = pd.read_csv(event_coords_filepath, header=None)  # ground truth observations"
   ]
  },
  {
   "cell_type": "code",
   "execution_count": null,
   "metadata": {},
   "outputs": [],
   "source": [
    "coords_df.head()"
   ]
  },
  {
   "cell_type": "code",
   "execution_count": null,
   "metadata": {},
   "outputs": [],
   "source": [
    "# contains coordinates of true centers\n",
    "tru_df = pd.DataFrame(tru_centers(tru_cntrs), columns=[\"latitude_true\", \"longitude_true\"])"
   ]
  },
  {
   "cell_type": "code",
   "execution_count": null,
   "metadata": {},
   "outputs": [],
   "source": [
    "tru_df.head()"
   ]
  },
  {
   "cell_type": "code",
   "execution_count": null,
   "metadata": {},
   "outputs": [],
   "source": [
    "# creates dataframe containing predicted and true center information\n",
    "centers_df = pd.DataFrame(pred_centers(pred_cntrs), columns=[\"min_x\", \"max_x\", \"min_y\", \"max_y\"])\n",
    "centers_df[\"longitude_guess\"] = (centers_df.min_x + centers_df.max_x)/2\n",
    "centers_df[\"latitude_guess\"] = (centers_df.min_y + centers_df.max_y)/2\n",
    "centers_df[\"longitude_true\"] = tru_df.longitude_true\n",
    "centers_df[\"latitude_true\"] = tru_df.latitude_true"
   ]
  },
  {
   "cell_type": "code",
   "execution_count": null,
   "metadata": {},
   "outputs": [],
   "source": [
    "centers_df.head()"
   ]
  },
  {
   "cell_type": "code",
   "execution_count": null,
   "metadata": {},
   "outputs": [],
   "source": [
    "# create map\n",
    "m = folium.Map([39, -98], zoom_start=4)\n",
    "\n",
    "# # plots all events as small dots\n",
    "# for index, row in coords_df.iterrows():\n",
    "#     folium.CircleMarker([row[0], row[1]],\n",
    "#                         radius=1,\n",
    "# #                         popup=row['name'],\n",
    "#                         fill_color=\"#3db7e4\", # divvy color\n",
    "#                        ).add_to(m)\n",
    "\n",
    "# plots our multiple center guesses\n",
    "for index, row in centers_df.iterrows():\n",
    "    folium.CircleMarker([row[\"latitude_guess\"], row[\"longitude_guess\"]],\n",
    "                        radius=3,\n",
    "                        fill=True, # Set fill to True\n",
    "                        popup=(\"Our Guess\"),\n",
    "                        color = '#2e43a6').add_to(m)\n",
    "    \n",
    "# plot Backstrom's single center guess   \n",
    "folium.CircleMarker(back_coords,\n",
    "                    radius=3,\n",
    "                    fill=True, # Set fill to True\n",
    "                    popup=(\"Backstrom's Guess\"),\n",
    "                    color = '#FF0000').add_to(m)\n",
    "\n",
    "# plot ground truth centers\n",
    "for index, row in centers_df.iterrows():\n",
    "    folium.CircleMarker([row[\"latitude_true\"], row[\"longitude_true\"]],\n",
    "                        radius=3,\n",
    "                        fill=True, # Set fill to True\n",
    "                        popup=(\"Ground Truth\"),\n",
    "                        color = '#9d2fad').add_to(m)\n",
    "    \n",
    "# plot heatmap\n",
    "m.add_child(plugins.HeatMap(coords_df, radius=15))\n",
    "\n",
    "m"
   ]
  },
  {
   "cell_type": "code",
   "execution_count": null,
   "metadata": {},
   "outputs": [],
   "source": [
    "# saves plot as an interactive map\n",
    "m.save(map_name)"
   ]
  },
  {
   "cell_type": "code",
   "execution_count": null,
   "metadata": {},
   "outputs": [],
   "source": [
    "# distance from backstrom to all centers\n",
    "lst = []\n",
    "for i in centers_df.index:\n",
    "    lst.append(round(geopy.distance.distance((centers_df.latitude_true[i], centers_df.longitude_true[i]), back_coords).miles,2))\n",
    "lst    "
   ]
  },
  {
   "cell_type": "code",
   "execution_count": null,
   "metadata": {},
   "outputs": [],
   "source": [
    "#matrix of distances from our centers to true centers\n",
    "mat = [] # each row is a guess, each col is the truth\n",
    "for i in centers_df.index: \n",
    "    apnd = []\n",
    "    for j in centers_df.index:\n",
    "        coords_pred = (centers_df.latitude_guess[i], centers_df.longitude_guess[i])\n",
    "        coords_true = (centers_df.latitude_true[j], centers_df.longitude_true[j])\n",
    "        apnd.append(round(geopy.distance.distance(coords_pred, coords_true).miles,2))\n",
    "    mat.append(apnd)\n",
    "mat"
   ]
  }
 ],
 "metadata": {
  "kernelspec": {
   "display_name": "Python 3",
   "language": "python",
   "name": "python3"
  },
  "language_info": {
   "codemirror_mode": {
    "name": "ipython",
    "version": 3
   },
   "file_extension": ".py",
   "mimetype": "text/x-python",
   "name": "python",
   "nbconvert_exporter": "python",
   "pygments_lexer": "ipython3",
   "version": "3.7.4"
  }
 },
 "nbformat": 4,
 "nbformat_minor": 2
}
