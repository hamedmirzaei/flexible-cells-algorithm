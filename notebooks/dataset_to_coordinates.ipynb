{
 "cells": [
  {
   "cell_type": "markdown",
   "metadata": {},
   "source": [
    "Input: Dataset with \"in_US\" feature and coordinates\n",
    "\n",
    "Output: Latitude and longitude data set with one tweet per user per location from the United States"
   ]
  },
  {
   "cell_type": "code",
   "execution_count": null,
   "metadata": {},
   "outputs": [],
   "source": [
    "import pandas as pd\n",
    "import numpy as np"
   ]
  },
  {
   "cell_type": "code",
   "execution_count": null,
   "metadata": {},
   "outputs": [],
   "source": [
    "import_filename = \"df_with_mask.csv\"\n",
    "output_filepath = \"COVID_coords_all.csv\""
   ]
  },
  {
   "cell_type": "code",
   "execution_count": null,
   "metadata": {},
   "outputs": [],
   "source": [
    "df = pd.read_csv(import_filename, index_col=0)"
   ]
  },
  {
   "cell_type": "code",
   "execution_count": null,
   "metadata": {},
   "outputs": [],
   "source": [
    "# create dataframe with only tweets from the USA\n",
    "df_USA = df[df.in_US.astype(str) == \"True\"].replace(np.nan, 'not_specified', regex=True)"
   ]
  },
  {
   "cell_type": "code",
   "execution_count": null,
   "metadata": {},
   "outputs": [],
   "source": [
    "# remove all but first instace of username and location combination\n",
    "df_USA[\"drop_on\"] = df_USA[\"user_screen_name\"] + df_USA[\"user_location\"]\n",
    "df_USA = df_USA.drop_duplicates(subset=[\"drop_on\"])"
   ]
  },
  {
   "cell_type": "code",
   "execution_count": null,
   "metadata": {},
   "outputs": [],
   "source": [
    "# create new dataset (all_df) with lat and long as the only features\n",
    "lat_lst = []\n",
    "lng_lst = []\n",
    "for item in df_USA[\"coordinates\"]:\n",
    "    if item != \"not_specified\":\n",
    "        coord = item.split(\",\")\n",
    "        lat_lst.append(float(coord[1]))\n",
    "        lng_lst.append(float(coord[0]))\n",
    "        \n",
    "all_df = pd.DataFrame([lat_lst, lng_lst]).transpose()"
   ]
  },
  {
   "cell_type": "code",
   "execution_count": null,
   "metadata": {},
   "outputs": [],
   "source": [
    "all_df.head()"
   ]
  },
  {
   "cell_type": "code",
   "execution_count": null,
   "metadata": {},
   "outputs": [],
   "source": [
    "# write to file\n",
    "all_df.to_csv(output_filepath, header=False, index=False)"
   ]
  }
 ],
 "metadata": {
  "kernelspec": {
   "display_name": "Python 3",
   "language": "python",
   "name": "python3"
  },
  "language_info": {
   "codemirror_mode": {
    "name": "ipython",
    "version": 3
   },
   "file_extension": ".py",
   "mimetype": "text/x-python",
   "name": "python",
   "nbconvert_exporter": "python",
   "pygments_lexer": "ipython3",
   "version": "3.7.4"
  }
 },
 "nbformat": 4,
 "nbformat_minor": 2
}
